{
 "cells": [
  {
   "cell_type": "markdown",
   "id": "696edb8d",
   "metadata": {},
   "source": [
    "### Upload files to AWS S3"
   ]
  },
  {
   "cell_type": "code",
   "execution_count": null,
   "id": "b67c78ea",
   "metadata": {},
   "outputs": [],
   "source": [
    "import boto3\n",
    "\n",
    "s3 = boto3.client('s3')\n",
    "\n",
    "bucket_name= 'mypracawsbucketsc2'\n",
    "file_path ='yellow_tripdata_2015-01.csv'\n",
    "s3_key= 'raw/yellow_tripdata_2015-01.csv'\n",
    "\n",
    "s3.upload_file(file_path, bucket_name, s3_key)\n",
    "print(\"Upload completed.\")"
   ]
  },
  {
   "cell_type": "markdown",
   "id": "1b30fb70",
   "metadata": {},
   "source": [
    "### Create connection to AWS S3"
   ]
  },
  {
   "cell_type": "code",
   "execution_count": null,
   "id": "ec1bb58a",
   "metadata": {},
   "outputs": [],
   "source": [
    "import os\n",
    "import findspark\n",
    "\n",
    "# Ustawienie paczek potrzebnych do obsługi S3 (muszą być przed findspark.init())\n",
    "os.environ[\"PYSPARK_SUBMIT_ARGS\"] = (\n",
    "    \"--packages org.apache.hadoop:hadoop-aws:3.3.1,\"\n",
    "    \"com.amazonaws:aws-java-sdk-bundle:1.11.375,\"\n",
    "    \"org.postgresql:postgresql:42.2.27 pyspark-shell\"\n",
    ")\n",
    "\n",
    "findspark.init()\n",
    "\n",
    "from pyspark.sql import SparkSession\n",
    "\n",
    "def create_spark_session(app_name=\"S3 CSV Reader\"):\n",
    "    spark_conf = {\n",
    "        \"spark.jars.packages\": \"org.apache.hadoop:hadoop-aws:3.3.1,\"\n",
    "                              \"com.amazonaws:aws-java-sdk-bundle:1.11.375\",\n",
    "        \"spark.hadoop.fs.s3a.impl\": \"org.apache.hadoop.fs.s3a.S3AFileSystem\",\n",
    "        \"spark.hadoop.fs.s3a.aws.credentials.provider\": \"com.amazonaws.auth.DefaultAWSCredentialsProviderChain\",\n",
    "    }\n",
    "\n",
    "    builder = SparkSession.builder.appName(app_name)\n",
    "    for k, v in spark_conf.items():\n",
    "        builder = builder.config(k, v)\n",
    "    \n",
    "    spark = builder.getOrCreate()\n",
    "    return spark\n",
    "\n",
    "spark = create_spark_session()"
   ]
  },
  {
   "cell_type": "markdown",
   "id": "18aca18f",
   "metadata": {},
   "source": [
    "### Read CSV file"
   ]
  },
  {
   "cell_type": "code",
   "execution_count": null,
   "id": "b8e5fa36",
   "metadata": {},
   "outputs": [],
   "source": [
    "df = spark.read.csv(\"s3a://mypracawsbucketsc2/raw/yellow_tripdata_2015-01.csv\", header=True, inferSchema=True)\n"
   ]
  },
  {
   "cell_type": "markdown",
   "id": "1a76bb25",
   "metadata": {},
   "source": [
    "### Transform"
   ]
  },
  {
   "cell_type": "code",
   "execution_count": null,
   "id": "920881dc",
   "metadata": {},
   "outputs": [],
   "source": [
    "from pyspark.sql.functions import col, to_timestamp\n",
    "\n",
    "df_clean = df.withColumn(\"tpep_pickup_datetime\", to_timestamp(col(\"tpep_pickup_datetime\"))) \\\n",
    "            .withColumn(\"tpep_dropoff_datetime\", to_timestamp(col(\"tpep_dropoff_datetime\"))) \\\n",
    "            .dropna()"
   ]
  },
  {
   "cell_type": "markdown",
   "id": "f3354e34",
   "metadata": {},
   "source": [
    "### Agregate some data"
   ]
  },
  {
   "cell_type": "code",
   "execution_count": null,
   "id": "77a4dab5",
   "metadata": {},
   "outputs": [],
   "source": [
    "agg_df = df_clean.groupBy(\"VendorID\").avg(\"total_amount\")"
   ]
  },
  {
   "cell_type": "markdown",
   "id": "daeff3a4",
   "metadata": {},
   "source": [
    "### Save as parquet to S3\n"
   ]
  },
  {
   "cell_type": "code",
   "execution_count": null,
   "id": "6f3de294",
   "metadata": {},
   "outputs": [],
   "source": [
    "agg_df.write.mode(\"overwrite\").parquet(\"s3a://mypracawsbucketsc2/processed/avg_amount_per_vendor.parquet\")"
   ]
  }
 ],
 "metadata": {
  "language_info": {
   "name": "python"
  }
 },
 "nbformat": 4,
 "nbformat_minor": 5
}
