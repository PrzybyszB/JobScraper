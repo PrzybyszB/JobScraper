{
 "cells": [
  {
   "cell_type": "code",
   "execution_count": 1,
   "id": "9c9da9c8",
   "metadata": {},
   "outputs": [],
   "source": [
    "import pandas as pd"
   ]
  },
  {
   "cell_type": "code",
   "execution_count": 21,
   "id": "2990d89d",
   "metadata": {},
   "outputs": [],
   "source": [
    "offers = pd.read_csv(\"./Pracuj_scrap/cleaned_pracuj_offers.csv\")"
   ]
  },
  {
   "cell_type": "code",
   "execution_count": 25,
   "id": "af9d0a60",
   "metadata": {},
   "outputs": [],
   "source": [
    "new_offers = [offers[\"position_level\"].str.contains(\"Junior\")]"
   ]
  },
  {
   "cell_type": "code",
   "execution_count": 26,
   "id": "45400d27",
   "metadata": {},
   "outputs": [
    {
     "data": {
      "text/plain": [
       "[0      False\n",
       " 1      False\n",
       " 2      False\n",
       " 3      False\n",
       " 4      False\n",
       "        ...  \n",
       " 395    False\n",
       " 396    False\n",
       " 397    False\n",
       " 398    False\n",
       " 399    False\n",
       " Name: position_level, Length: 400, dtype: bool]"
      ]
     },
     "execution_count": 26,
     "metadata": {},
     "output_type": "execute_result"
    }
   ],
   "source": [
    "new_offers"
   ]
  }
 ],
 "metadata": {
  "kernelspec": {
   "display_name": "venv",
   "language": "python",
   "name": "python3"
  },
  "language_info": {
   "codemirror_mode": {
    "name": "ipython",
    "version": 3
   },
   "file_extension": ".py",
   "mimetype": "text/x-python",
   "name": "python",
   "nbconvert_exporter": "python",
   "pygments_lexer": "ipython3",
   "version": "3.10.3"
  }
 },
 "nbformat": 4,
 "nbformat_minor": 5
}
